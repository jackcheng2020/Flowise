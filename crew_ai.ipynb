{
  "nbformat": 4,
  "nbformat_minor": 0,
  "metadata": {
    "colab": {
      "provenance": [],
      "authorship_tag": "ABX9TyMde2U1IBhdhm+YXAMgPEHf",
      "include_colab_link": true
    },
    "kernelspec": {
      "name": "python3",
      "display_name": "Python 3"
    },
    "language_info": {
      "name": "python"
    }
  },
  "cells": [
    {
      "cell_type": "markdown",
      "metadata": {
        "id": "view-in-github",
        "colab_type": "text"
      },
      "source": [
        "<a href=\"https://colab.research.google.com/github/jackcheng2020/Flowise/blob/main/crew_ai.ipynb\" target=\"_parent\"><img src=\"https://colab.research.google.com/assets/colab-badge.svg\" alt=\"Open In Colab\"/></a>"
      ]
    },
    {
      "cell_type": "code",
      "execution_count": 1,
      "metadata": {
        "colab": {
          "base_uri": "https://localhost:8080/"
        },
        "id": "k7qNgZfOYrJV",
        "outputId": "245a73d1-6fbd-4d3b-cb70-e3571f1c508b"
      },
      "outputs": [
        {
          "output_type": "stream",
          "name": "stdout",
          "text": [
            "Collecting crewai\n",
            "  Downloading crewai-0.1.32-py3-none-any.whl (25 kB)\n",
            "Collecting langchain<0.2.0,>=0.1.0 (from crewai)\n",
            "  Downloading langchain-0.1.4-py3-none-any.whl (803 kB)\n",
            "\u001b[2K     \u001b[90m━━━━━━━━━━━━━━━━━━━━━━━━━━━━━━━━━━━━━━━━\u001b[0m \u001b[32m803.6/803.6 kB\u001b[0m \u001b[31m4.7 MB/s\u001b[0m eta \u001b[36m0:00:00\u001b[0m\n",
            "\u001b[?25hCollecting langchain-openai<0.0.3,>=0.0.2 (from crewai)\n",
            "  Downloading langchain_openai-0.0.2.post1-py3-none-any.whl (28 kB)\n",
            "Collecting openai<2.0.0,>=1.7.1 (from crewai)\n",
            "  Downloading openai-1.10.0-py3-none-any.whl (225 kB)\n",
            "\u001b[2K     \u001b[90m━━━━━━━━━━━━━━━━━━━━━━━━━━━━━━━━━━━━━━━━\u001b[0m \u001b[32m225.1/225.1 kB\u001b[0m \u001b[31m15.0 MB/s\u001b[0m eta \u001b[36m0:00:00\u001b[0m\n",
            "\u001b[?25hCollecting pydantic<3.0.0,>=2.4.2 (from crewai)\n",
            "  Downloading pydantic-2.6.0-py3-none-any.whl (394 kB)\n",
            "\u001b[2K     \u001b[90m━━━━━━━━━━━━━━━━━━━━━━━━━━━━━━━━━━━━━━━━\u001b[0m \u001b[32m394.2/394.2 kB\u001b[0m \u001b[31m12.3 MB/s\u001b[0m eta \u001b[36m0:00:00\u001b[0m\n",
            "\u001b[?25hRequirement already satisfied: PyYAML>=5.3 in /usr/local/lib/python3.10/dist-packages (from langchain<0.2.0,>=0.1.0->crewai) (6.0.1)\n",
            "Requirement already satisfied: SQLAlchemy<3,>=1.4 in /usr/local/lib/python3.10/dist-packages (from langchain<0.2.0,>=0.1.0->crewai) (2.0.24)\n",
            "Requirement already satisfied: aiohttp<4.0.0,>=3.8.3 in /usr/local/lib/python3.10/dist-packages (from langchain<0.2.0,>=0.1.0->crewai) (3.9.1)\n",
            "Requirement already satisfied: async-timeout<5.0.0,>=4.0.0 in /usr/local/lib/python3.10/dist-packages (from langchain<0.2.0,>=0.1.0->crewai) (4.0.3)\n",
            "Collecting dataclasses-json<0.7,>=0.5.7 (from langchain<0.2.0,>=0.1.0->crewai)\n",
            "  Downloading dataclasses_json-0.6.3-py3-none-any.whl (28 kB)\n",
            "Collecting jsonpatch<2.0,>=1.33 (from langchain<0.2.0,>=0.1.0->crewai)\n",
            "  Downloading jsonpatch-1.33-py2.py3-none-any.whl (12 kB)\n",
            "Collecting langchain-community<0.1,>=0.0.14 (from langchain<0.2.0,>=0.1.0->crewai)\n",
            "  Downloading langchain_community-0.0.16-py3-none-any.whl (1.6 MB)\n",
            "\u001b[2K     \u001b[90m━━━━━━━━━━━━━━━━━━━━━━━━━━━━━━━━━━━━━━━━\u001b[0m \u001b[32m1.6/1.6 MB\u001b[0m \u001b[31m24.3 MB/s\u001b[0m eta \u001b[36m0:00:00\u001b[0m\n",
            "\u001b[?25hCollecting langchain-core<0.2,>=0.1.16 (from langchain<0.2.0,>=0.1.0->crewai)\n",
            "  Downloading langchain_core-0.1.17-py3-none-any.whl (235 kB)\n",
            "\u001b[2K     \u001b[90m━━━━━━━━━━━━━━━━━━━━━━━━━━━━━━━━━━━━━━━━\u001b[0m \u001b[32m235.9/235.9 kB\u001b[0m \u001b[31m16.2 MB/s\u001b[0m eta \u001b[36m0:00:00\u001b[0m\n",
            "\u001b[?25hCollecting langsmith<0.1,>=0.0.83 (from langchain<0.2.0,>=0.1.0->crewai)\n",
            "  Downloading langsmith-0.0.85-py3-none-any.whl (54 kB)\n",
            "\u001b[2K     \u001b[90m━━━━━━━━━━━━━━━━━━━━━━━━━━━━━━━━━━━━━━━━\u001b[0m \u001b[32m54.0/54.0 kB\u001b[0m \u001b[31m7.5 MB/s\u001b[0m eta \u001b[36m0:00:00\u001b[0m\n",
            "\u001b[?25hRequirement already satisfied: numpy<2,>=1 in /usr/local/lib/python3.10/dist-packages (from langchain<0.2.0,>=0.1.0->crewai) (1.23.5)\n",
            "Requirement already satisfied: requests<3,>=2 in /usr/local/lib/python3.10/dist-packages (from langchain<0.2.0,>=0.1.0->crewai) (2.31.0)\n",
            "Requirement already satisfied: tenacity<9.0.0,>=8.1.0 in /usr/local/lib/python3.10/dist-packages (from langchain<0.2.0,>=0.1.0->crewai) (8.2.3)\n",
            "Collecting tiktoken<0.6.0,>=0.5.2 (from langchain-openai<0.0.3,>=0.0.2->crewai)\n",
            "  Downloading tiktoken-0.5.2-cp310-cp310-manylinux_2_17_x86_64.manylinux2014_x86_64.whl (2.0 MB)\n",
            "\u001b[2K     \u001b[90m━━━━━━━━━━━━━━━━━━━━━━━━━━━━━━━━━━━━━━━━\u001b[0m \u001b[32m2.0/2.0 MB\u001b[0m \u001b[31m69.2 MB/s\u001b[0m eta \u001b[36m0:00:00\u001b[0m\n",
            "\u001b[?25hRequirement already satisfied: anyio<5,>=3.5.0 in /usr/local/lib/python3.10/dist-packages (from openai<2.0.0,>=1.7.1->crewai) (3.7.1)\n",
            "Requirement already satisfied: distro<2,>=1.7.0 in /usr/lib/python3/dist-packages (from openai<2.0.0,>=1.7.1->crewai) (1.7.0)\n",
            "Collecting httpx<1,>=0.23.0 (from openai<2.0.0,>=1.7.1->crewai)\n",
            "  Downloading httpx-0.26.0-py3-none-any.whl (75 kB)\n",
            "\u001b[2K     \u001b[90m━━━━━━━━━━━━━━━━━━━━━━━━━━━━━━━━━━━━━━━━\u001b[0m \u001b[32m75.9/75.9 kB\u001b[0m \u001b[31m9.2 MB/s\u001b[0m eta \u001b[36m0:00:00\u001b[0m\n",
            "\u001b[?25hRequirement already satisfied: sniffio in /usr/local/lib/python3.10/dist-packages (from openai<2.0.0,>=1.7.1->crewai) (1.3.0)\n",
            "Requirement already satisfied: tqdm>4 in /usr/local/lib/python3.10/dist-packages (from openai<2.0.0,>=1.7.1->crewai) (4.66.1)\n",
            "Collecting typing-extensions<5,>=4.7 (from openai<2.0.0,>=1.7.1->crewai)\n",
            "  Downloading typing_extensions-4.9.0-py3-none-any.whl (32 kB)\n",
            "Collecting annotated-types>=0.4.0 (from pydantic<3.0.0,>=2.4.2->crewai)\n",
            "  Downloading annotated_types-0.6.0-py3-none-any.whl (12 kB)\n",
            "Collecting pydantic-core==2.16.1 (from pydantic<3.0.0,>=2.4.2->crewai)\n",
            "  Downloading pydantic_core-2.16.1-cp310-cp310-manylinux_2_17_x86_64.manylinux2014_x86_64.whl (2.2 MB)\n",
            "\u001b[2K     \u001b[90m━━━━━━━━━━━━━━━━━━━━━━━━━━━━━━━━━━━━━━━━\u001b[0m \u001b[32m2.2/2.2 MB\u001b[0m \u001b[31m57.8 MB/s\u001b[0m eta \u001b[36m0:00:00\u001b[0m\n",
            "\u001b[?25hRequirement already satisfied: attrs>=17.3.0 in /usr/local/lib/python3.10/dist-packages (from aiohttp<4.0.0,>=3.8.3->langchain<0.2.0,>=0.1.0->crewai) (23.2.0)\n",
            "Requirement already satisfied: multidict<7.0,>=4.5 in /usr/local/lib/python3.10/dist-packages (from aiohttp<4.0.0,>=3.8.3->langchain<0.2.0,>=0.1.0->crewai) (6.0.4)\n",
            "Requirement already satisfied: yarl<2.0,>=1.0 in /usr/local/lib/python3.10/dist-packages (from aiohttp<4.0.0,>=3.8.3->langchain<0.2.0,>=0.1.0->crewai) (1.9.4)\n",
            "Requirement already satisfied: frozenlist>=1.1.1 in /usr/local/lib/python3.10/dist-packages (from aiohttp<4.0.0,>=3.8.3->langchain<0.2.0,>=0.1.0->crewai) (1.4.1)\n",
            "Requirement already satisfied: aiosignal>=1.1.2 in /usr/local/lib/python3.10/dist-packages (from aiohttp<4.0.0,>=3.8.3->langchain<0.2.0,>=0.1.0->crewai) (1.3.1)\n",
            "Requirement already satisfied: idna>=2.8 in /usr/local/lib/python3.10/dist-packages (from anyio<5,>=3.5.0->openai<2.0.0,>=1.7.1->crewai) (3.6)\n",
            "Requirement already satisfied: exceptiongroup in /usr/local/lib/python3.10/dist-packages (from anyio<5,>=3.5.0->openai<2.0.0,>=1.7.1->crewai) (1.2.0)\n",
            "Collecting marshmallow<4.0.0,>=3.18.0 (from dataclasses-json<0.7,>=0.5.7->langchain<0.2.0,>=0.1.0->crewai)\n",
            "  Downloading marshmallow-3.20.2-py3-none-any.whl (49 kB)\n",
            "\u001b[2K     \u001b[90m━━━━━━━━━━━━━━━━━━━━━━━━━━━━━━━━━━━━━━━━\u001b[0m \u001b[32m49.4/49.4 kB\u001b[0m \u001b[31m6.0 MB/s\u001b[0m eta \u001b[36m0:00:00\u001b[0m\n",
            "\u001b[?25hCollecting typing-inspect<1,>=0.4.0 (from dataclasses-json<0.7,>=0.5.7->langchain<0.2.0,>=0.1.0->crewai)\n",
            "  Downloading typing_inspect-0.9.0-py3-none-any.whl (8.8 kB)\n",
            "Requirement already satisfied: certifi in /usr/local/lib/python3.10/dist-packages (from httpx<1,>=0.23.0->openai<2.0.0,>=1.7.1->crewai) (2023.11.17)\n",
            "Collecting httpcore==1.* (from httpx<1,>=0.23.0->openai<2.0.0,>=1.7.1->crewai)\n",
            "  Downloading httpcore-1.0.2-py3-none-any.whl (76 kB)\n",
            "\u001b[2K     \u001b[90m━━━━━━━━━━━━━━━━━━━━━━━━━━━━━━━━━━━━━━━━\u001b[0m \u001b[32m76.9/76.9 kB\u001b[0m \u001b[31m8.4 MB/s\u001b[0m eta \u001b[36m0:00:00\u001b[0m\n",
            "\u001b[?25hCollecting h11<0.15,>=0.13 (from httpcore==1.*->httpx<1,>=0.23.0->openai<2.0.0,>=1.7.1->crewai)\n",
            "  Downloading h11-0.14.0-py3-none-any.whl (58 kB)\n",
            "\u001b[2K     \u001b[90m━━━━━━━━━━━━━━━━━━━━━━━━━━━━━━━━━━━━━━━━\u001b[0m \u001b[32m58.3/58.3 kB\u001b[0m \u001b[31m7.1 MB/s\u001b[0m eta \u001b[36m0:00:00\u001b[0m\n",
            "\u001b[?25hCollecting jsonpointer>=1.9 (from jsonpatch<2.0,>=1.33->langchain<0.2.0,>=0.1.0->crewai)\n",
            "  Downloading jsonpointer-2.4-py2.py3-none-any.whl (7.8 kB)\n",
            "Requirement already satisfied: packaging<24.0,>=23.2 in /usr/local/lib/python3.10/dist-packages (from langchain-core<0.2,>=0.1.16->langchain<0.2.0,>=0.1.0->crewai) (23.2)\n",
            "Requirement already satisfied: charset-normalizer<4,>=2 in /usr/local/lib/python3.10/dist-packages (from requests<3,>=2->langchain<0.2.0,>=0.1.0->crewai) (3.3.2)\n",
            "Requirement already satisfied: urllib3<3,>=1.21.1 in /usr/local/lib/python3.10/dist-packages (from requests<3,>=2->langchain<0.2.0,>=0.1.0->crewai) (2.0.7)\n",
            "Requirement already satisfied: greenlet!=0.4.17 in /usr/local/lib/python3.10/dist-packages (from SQLAlchemy<3,>=1.4->langchain<0.2.0,>=0.1.0->crewai) (3.0.3)\n",
            "Requirement already satisfied: regex>=2022.1.18 in /usr/local/lib/python3.10/dist-packages (from tiktoken<0.6.0,>=0.5.2->langchain-openai<0.0.3,>=0.0.2->crewai) (2023.6.3)\n",
            "Collecting mypy-extensions>=0.3.0 (from typing-inspect<1,>=0.4.0->dataclasses-json<0.7,>=0.5.7->langchain<0.2.0,>=0.1.0->crewai)\n",
            "  Downloading mypy_extensions-1.0.0-py3-none-any.whl (4.7 kB)\n",
            "Installing collected packages: typing-extensions, mypy-extensions, marshmallow, jsonpointer, h11, annotated-types, typing-inspect, tiktoken, pydantic-core, jsonpatch, httpcore, pydantic, httpx, dataclasses-json, openai, langsmith, langchain-core, langchain-openai, langchain-community, langchain, crewai\n",
            "  Attempting uninstall: typing-extensions\n",
            "    Found existing installation: typing_extensions 4.5.0\n",
            "    Uninstalling typing_extensions-4.5.0:\n",
            "      Successfully uninstalled typing_extensions-4.5.0\n",
            "  Attempting uninstall: pydantic\n",
            "    Found existing installation: pydantic 1.10.14\n",
            "    Uninstalling pydantic-1.10.14:\n",
            "      Successfully uninstalled pydantic-1.10.14\n",
            "\u001b[31mERROR: pip's dependency resolver does not currently take into account all the packages that are installed. This behaviour is the source of the following dependency conflicts.\n",
            "lida 0.0.10 requires fastapi, which is not installed.\n",
            "lida 0.0.10 requires kaleido, which is not installed.\n",
            "lida 0.0.10 requires python-multipart, which is not installed.\n",
            "lida 0.0.10 requires uvicorn, which is not installed.\n",
            "llmx 0.0.15a0 requires cohere, which is not installed.\n",
            "tensorflow-probability 0.22.0 requires typing-extensions<4.6.0, but you have typing-extensions 4.9.0 which is incompatible.\u001b[0m\u001b[31m\n",
            "\u001b[0mSuccessfully installed annotated-types-0.6.0 crewai-0.1.32 dataclasses-json-0.6.3 h11-0.14.0 httpcore-1.0.2 httpx-0.26.0 jsonpatch-1.33 jsonpointer-2.4 langchain-0.1.4 langchain-community-0.0.16 langchain-core-0.1.17 langchain-openai-0.0.2.post1 langsmith-0.0.85 marshmallow-3.20.2 mypy-extensions-1.0.0 openai-1.10.0 pydantic-2.6.0 pydantic-core-2.16.1 tiktoken-0.5.2 typing-extensions-4.9.0 typing-inspect-0.9.0\n"
          ]
        }
      ],
      "source": [
        "!pip install crewai"
      ]
    },
    {
      "cell_type": "code",
      "source": [
        "!pip install duckduckgo-search"
      ],
      "metadata": {
        "colab": {
          "base_uri": "https://localhost:8080/"
        },
        "id": "n5BMY1PnZgDQ",
        "outputId": "62328671-02f7-4635-858a-591b9a090e35"
      },
      "execution_count": 3,
      "outputs": [
        {
          "output_type": "stream",
          "name": "stdout",
          "text": [
            "Requirement already satisfied: duckduckgo-search in /usr/local/lib/python3.10/dist-packages (4.4)\n",
            "Requirement already satisfied: docstring-inheritance>=2.1.2 in /usr/local/lib/python3.10/dist-packages (from duckduckgo-search) (2.1.2)\n",
            "Requirement already satisfied: click>=8.1.7 in /usr/local/lib/python3.10/dist-packages (from duckduckgo-search) (8.1.7)\n",
            "Requirement already satisfied: curl-cffi>=0.6.0b7 in /usr/local/lib/python3.10/dist-packages (from duckduckgo-search) (0.6.0b9)\n",
            "Requirement already satisfied: lxml>=4.9.3 in /usr/local/lib/python3.10/dist-packages (from duckduckgo-search) (4.9.4)\n",
            "Requirement already satisfied: nest-asyncio>=1.6.0 in /usr/local/lib/python3.10/dist-packages (from duckduckgo-search) (1.6.0)\n",
            "Requirement already satisfied: cffi>=1.12.0 in /usr/local/lib/python3.10/dist-packages (from curl-cffi>=0.6.0b7->duckduckgo-search) (1.16.0)\n",
            "Requirement already satisfied: certifi in /usr/local/lib/python3.10/dist-packages (from curl-cffi>=0.6.0b7->duckduckgo-search) (2023.11.17)\n",
            "Requirement already satisfied: pycparser in /usr/local/lib/python3.10/dist-packages (from cffi>=1.12.0->curl-cffi>=0.6.0b7->duckduckgo-search) (2.21)\n"
          ]
        }
      ]
    },
    {
      "cell_type": "code",
      "source": [
        "import os\n",
        "from crewai import Agent, Task, Crew, Process\n",
        "\n",
        "os.environ[\"OPENAI_API_KEY\"] = \"xxxx\""
      ],
      "metadata": {
        "id": "xpfgBMkgZonR"
      },
      "execution_count": 4,
      "outputs": []
    },
    {
      "cell_type": "code",
      "source": [
        "from langchain.tools import DuckDuckGoSearchRun\n",
        "search_tool = DuckDuckGoSearchRun()\n"
      ],
      "metadata": {
        "id": "_GUF_mMgZ3Hc"
      },
      "execution_count": 5,
      "outputs": []
    },
    {
      "cell_type": "code",
      "source": [
        "researcher = Agent(\n",
        "  role='Senior Research Analyst',\n",
        "  goal='Uncover cutting-edge developments in AI and data science',\n",
        "  backstory=\"\"\"You work at a leading tech think tank.\n",
        "  Your expertise lies in identifying emerging trends.\n",
        "  You have a knack for dissecting complex data and presenting\n",
        "  actionable insights.\"\"\",\n",
        "  verbose=True,\n",
        "  allow_delegation=False,\n",
        "  tools=[search_tool]\n",
        "  # You can pass an optional llm attribute specifying what mode you wanna use.\n",
        "  # It can be a local model through Ollama / LM Studio or a remote\n",
        "  # model like OpenAI, Mistral, Antrophic or others (https://python.langchain.com/docs/integrations/llms/)\n",
        "  #\n",
        "  # Examples:\n",
        "  # llm=ollama_llm # was defined above in the file\n",
        "  # llm=OpenAI(model_name=\"gpt-3.5\", temperature=0.7)\n",
        "  # For the OpenAI model you would need to import\n",
        "  # from langchain_openai import OpenAI\n",
        ")"
      ],
      "metadata": {
        "id": "CXVMraUWZ7_p"
      },
      "execution_count": 6,
      "outputs": []
    },
    {
      "cell_type": "code",
      "source": [
        "writer = Agent(\n",
        "  role='Tech Content Strategist',\n",
        "  goal='Craft compelling content on tech advancements',\n",
        "  backstory=\"\"\"You are a renowned Content Strategist, known for\n",
        "  your insightful and engaging articles.\n",
        "  You transform complex concepts into compelling narratives.\"\"\",\n",
        "  verbose=True,\n",
        "  allow_delegation=True,\n",
        "  # (optional) llm=ollama_llm\n",
        ")\n"
      ],
      "metadata": {
        "id": "3zKfkv43aFD8"
      },
      "execution_count": 7,
      "outputs": []
    },
    {
      "cell_type": "code",
      "source": [
        "task1 = Task(\n",
        "  description=\"\"\"Conduct a comprehensive analysis of the latest advancements in AI in 2024.\n",
        "  Identify key trends, breakthrough technologies, and potential industry impacts.\n",
        "  Your final answer MUST be a full analysis report\"\"\",\n",
        "  agent=researcher\n",
        ")"
      ],
      "metadata": {
        "id": "9ovEcW6xaJbB"
      },
      "execution_count": 8,
      "outputs": []
    },
    {
      "cell_type": "code",
      "source": [
        "task2 = Task(\n",
        "  description=\"\"\"Using the insights provided, develop an engaging blog\n",
        "  post that highlights the most significant AI advancements.\n",
        "  Your post should be informative yet accessible, catering to a tech-savvy audience.\n",
        "  Make it sound cool, avoid complex words so it doesn't sound like AI.\n",
        "  Your final answer MUST be the full blog post of at least 4 paragraphs.\"\"\",\n",
        "  agent=writer\n",
        ")"
      ],
      "metadata": {
        "id": "aDJ4d_9OaOEe"
      },
      "execution_count": 9,
      "outputs": []
    },
    {
      "cell_type": "code",
      "source": [
        "# Instantiate your crew with a sequential process\n",
        "crew = Crew(\n",
        "  agents=[researcher, writer],\n",
        "  tasks=[task1, task2],\n",
        "  verbose=2, # You can set it to 1 or 2 to different logging levels\n",
        ")\n"
      ],
      "metadata": {
        "id": "Tws4PGm0aUgz"
      },
      "execution_count": 10,
      "outputs": []
    },
    {
      "cell_type": "code",
      "source": [
        "result = crew.kickoff()\n",
        "\n",
        "print(\"######################\")\n",
        "print(result)"
      ],
      "metadata": {
        "colab": {
          "base_uri": "https://localhost:8080/"
        },
        "id": "awyZ8S2ZaZEM",
        "outputId": "9df5152e-218b-4b3f-add1-3a6d27d0123e"
      },
      "execution_count": 15,
      "outputs": [
        {
          "output_type": "stream",
          "name": "stdout",
          "text": [
            "\n",
            "[DEBUG]: Working Agent: Senior Research Analyst\n",
            "\n",
            "[INFO]: Starting Task: Conduct a comprehensive analysis of the latest advancements in AI in 2024.\n",
            "  Identify key trends, breakthrough technologies, and potential industry impacts.\n",
            "  Your final answer MUST be a full analysis report\n",
            "\n",
            "\n",
            "\u001b[1m> Entering new CrewAgentExecutor chain...\u001b[0m\n",
            "\u001b[32;1m\u001b[1;3mThought: To conduct a comprehensive analysis of the latest advancements in AI in 2024, I will need to gather recent data and news from reliable sources. Therefore, I should use the duckduckgo_search tool to search for the latest advancements in AI in 2024.\n",
            "\n",
            "Action: duckduckgo_search\n",
            "Action Input: Latest advancements in AI in 2024\u001b[0m"
          ]
        },
        {
          "output_type": "stream",
          "name": "stderr",
          "text": [
            "/usr/local/lib/python3.10/dist-packages/langchain_community/utilities/duckduckgo_search.py:47: UserWarning: DDGS running in an async loop. This may cause errors. Use AsyncDDGS instead.\n",
            "  with DDGS() as ddgs:\n"
          ]
        },
        {
          "output_type": "stream",
          "name": "stdout",
          "text": [
            "\u001b[36;1m\u001b[1;3mIn 2024, generative AI might actually become useful for the regular, non-tech person, and we are going to see more people tinkering with a million little AI models. State-of-the-art AI... Here are the top 10 AI and machine learning trends to prepare for in 2024. 1. Multimodal AI Multimodal AI goes beyond traditional single-mode data processing to encompass multiple input types, such as text, images and sound -- a step toward mimicking the human ability to process diverse sensory information. AI in 2024 — the biggest new products and advancements on the way Features By Ryan Morrison published 27 December 2023 While 2023 was the year of AI, 2024 will be the year we use it.... As 2024 unfolds, we will see monumental leaps in AI capabilities, especially in areas demanding complex problem-solving fueled by quantum advancements. 4. Law, Regulation, and Policy, Machine Learning What to Expect in AI in 2024 Seven Stanford HAI faculty and fellows predict the biggest stories for next year in artificial intelligence. Dec 8, 2023 | Shana Lynch This past year marked major advances in generative AI as terms like ChatGPT and Bard become household names.\u001b[0m\u001b[32;1m\u001b[1;3mFrom my search, I have identified several key trends and advancements in AI for 2024. These include the increased use of generative AI, the rise of Multimodal AI, and significant leaps in AI capabilities due to quantum advancements. There are also indications that AI regulations and policies will be significant topics in 2024. \n",
            "\n",
            "I need to dive deeper into each of these topics to fully understand their implications and potential impacts on the industry. I will start by researching more about generative AI and how it is expected to become more accessible to the average person in 2024.\n",
            "\n",
            "Action: duckduckgo_search\n",
            "Action Input: Generative AI advancements in 2024\n",
            "\u001b[0m"
          ]
        },
        {
          "output_type": "stream",
          "name": "stderr",
          "text": [
            "/usr/local/lib/python3.10/dist-packages/langchain_community/utilities/duckduckgo_search.py:47: UserWarning: DDGS running in an async loop. This may cause errors. Use AsyncDDGS instead.\n",
            "  with DDGS() as ddgs:\n"
          ]
        },
        {
          "output_type": "stream",
          "name": "stdout",
          "text": [
            "\u001b[36;1m\u001b[1;3mGenerative AI was the explosive breakout tech trend of 2023, capturing the attention of not only techies and futurists but mainstream audiences, too, with its ability to create seemingly... In 2024, generative AI might actually become useful for the regular, non-tech person, and we are going to see more people tinkering with a million little AI models. State-of-the-art AI... 10 Breakthrough Technologies by Will Douglas Heaven Generative AI tools like ChatGPT reached mass adoption in record time, and reset the course of an entire industry. If 2023 has been the year of generative AI, 2024 will see that growth trajectory zoom upward. Here are a few predictions of how generative AI will shape 2024. AI technology at work and 'bring your own AI' At the start of the generative AI boom, many organizations were cautious and restricted employees from using ChatGPT. Generative AI is a subset of artificial intelligence (AI) that focuses on generating new data by learning from existing data, including text, images, videos, and more. Over the years, it has evolved, with significant advancements in the 21st century, particularly with the advent of transformer-based models like GPT-3.\u001b[0m\u001b[32;1m\u001b[1;3mGenerative AI has been identified as a major trend in 2024, having gained traction in 2023. It has grown in popularity due to its ability to generate new data by learning from existing data, including text, images, videos, and more. Tools like ChatGPT are reaching mass adoption, changing the direction of the industry. It's also predicted that generative AI will become more accessible to non-tech individuals, leading to more widespread use and experimentation.\n",
            "\n",
            "Next, I will look into the rise of Multimodal AI which is another significant trend identified for 2024. \n",
            "\n",
            "Action: duckduckgo_search\n",
            "Action Input: Multimodal AI advancements in 2024\u001b[0m"
          ]
        },
        {
          "output_type": "stream",
          "name": "stderr",
          "text": [
            "/usr/local/lib/python3.10/dist-packages/langchain_community/utilities/duckduckgo_search.py:47: UserWarning: DDGS running in an async loop. This may cause errors. Use AsyncDDGS instead.\n",
            "  with DDGS() as ddgs:\n"
          ]
        },
        {
          "output_type": "stream",
          "name": "stdout",
          "text": [
            "\u001b[36;1m\u001b[1;3mAfter Large Language models (LLMs), diffusion models, and generative AI, we will see even more powerful new ways of AI interaction emerge in 2024 with 'Multimodal AI'. With this, users can use images, speech, numerical data, etc., to interact with the AI systems intuitively. What's next for AI in 2024 Our writers look at the four hot trends to watch out for this year By Melissa Heikkilä Will Douglas Heaven January 4, 2024 Stephanie Arnett/MITTR | EyeEm MIT... Here are the top 10 AI and machine learning trends to prepare for in 2024. 1. Multimodal AI Multimodal AI goes beyond traditional single-mode data processing to encompass multiple input types, such as text, images and sound -- a step toward mimicking the human ability to process diverse sensory information. Evolution of Generative AI in 2024: From Large Language Models to Large Multimodal Models In its latest report, McKinsey designated 2023 as a breakout year for generative AI, leading to many advancements in the field. 18 January, 2024 · AI thought leadership Explore what multimodal AI systems are and discover their ever-growing significance in industries like health, retail, customer service, and more.\u001b[0m\u001b[32;1m\u001b[1;3mMultimodal AI is another major trend for 2024. It goes beyond traditional single-mode data processing to include multiple types of input such as text, images, and sound. This is a significant advancement as it mimics the human ability to process diverse sensory information. Multimodal AI is expected to improve the interaction between users and AI systems, allowing for more intuitive and seamless experiences. This technology could have significant impacts on various industries, including health, retail, and customer service.\n",
            "\n",
            "The third trend I identified was significant leaps in AI capabilities due to quantum advancements. I will now research more about this to understand its potential impacts in 2024.\n",
            "\n",
            "Action: duckduckgo_search\n",
            "Action Input: Quantum advancements in AI in 2024\u001b[0m"
          ]
        },
        {
          "output_type": "stream",
          "name": "stderr",
          "text": [
            "/usr/local/lib/python3.10/dist-packages/langchain_community/utilities/duckduckgo_search.py:47: UserWarning: DDGS running in an async loop. This may cause errors. Use AsyncDDGS instead.\n",
            "  with DDGS() as ddgs:\n"
          ]
        },
        {
          "output_type": "stream",
          "name": "stdout",
          "text": [
            "\u001b[36;1m\u001b[1;3mIn 2024, quantum industry experts from technology companies and analyst firms predict a year rich in quantum technology and hardware advancements and deployments, with an increased focus on... 5. Quantum AI Leading our exploration at number 5 is Quantum AI. For those new to the concept, quantum computing might feel reminiscent of a sci-fi plotline. However, it's swiftly... January 11, 2024. 2024 is poised to be a pivotal year for quantum technology, with advancements in hardware, software, and applications expected to accelerate. Here are some key predictions from industry experts: In 2024, quantum industry experts from technology companies and analyst firms predict a year rich in quantum technology and hardware ... Exploring 7 Emerging Quantum Technologies (2024) By Andrew DeLanzo / Updated October 24, 2023 As we journey deeper into the frontier of science and technology we continue to, discover more knowledge or innovation previously deemed unimaginable. At the forefront of this technological revolution stands quantum technology. Dell expects quantum computing and generative AI to link in 2024. ... From government-backed funding to advancements by major players like IBM, quantum has become the buzzword on everyone's mind ...\u001b[0m\u001b[32;1m\u001b[1;3mQuantum advancements in AI is another key trend for 2024. Quantum technology and hardware advancements are expected to be significant, with an increased focus on quantum AI. This is a rapidly advancing field, fueled by government-backed funding and the efforts of major tech companies like IBM. The integration of quantum computing with generative AI is also anticipated, which could lead to significant leaps in AI capabilities.\n",
            "\n",
            "The fourth and final trend I identified is AI regulations and policies. This could have significant impacts on how AI technologies are developed and used. I will now conduct a search to understand the potential regulatory and policy changes anticipated for 2024.\n",
            "\n",
            "Action: duckduckgo_search\n",
            "Action Input: AI regulations and policies in 2024\u001b[0m"
          ]
        },
        {
          "output_type": "stream",
          "name": "stderr",
          "text": [
            "/usr/local/lib/python3.10/dist-packages/langchain_community/utilities/duckduckgo_search.py:47: UserWarning: DDGS running in an async loop. This may cause errors. Use AsyncDDGS instead.\n",
            "  with DDGS() as ddgs:\n"
          ]
        },
        {
          "output_type": "stream",
          "name": "stdout",
          "text": [
            "\u001b[36;1m\u001b[1;3mGovernment-wide tech talent programs, including the Presidential Innovation Fellows, U.S. Digital Corps, and U.S. Digital Service, have scaled up hiring for AI talent in 2024 across high-priority ... Policy What's next for AI regulation in 2024? The coming year is going to see the first sweeping AI laws enter into force, with global efforts to hold tech companies accountable. By Tate... The Wadhwani Center for AI and Advanced Technologies' 2024 AI Policy Forecast reviews macro developments in artificial intelligence in 2023 and presents the Wadhwani Center's top policy issues to monitor in 2024. In this article, we discuss five key issues to track in 2024, including: AI regulation, including the EU's AI Act, is taking shape and may begin to affect nearly all industries. Expect more litigation over alleged copyright infringement in the training and use of AI systems. AI regulation: What businesses need to know in 2024 The rapid evolution and adoption of AI tools has policymakers scrambling to craft effective AI regulation and laws. Law professor Michael Bennett analyzes what's afoot in 2024. By Michael Bennett, Northeastern University Published: 11 Jan 2024\u001b[0m\u001b[32;1m\u001b[1;3mAI regulation and policies are a key focus in 2024. Government-wide tech talent programs have scaled up hiring for AI talent across high-priority areas, indicating an increased focus on this sector. The coming year will see the first sweeping AI laws come into force, with global efforts to hold tech companies accountable. These regulations may begin to affect nearly all industries. Additionally, there is an expectation of more litigation over alleged copyright infringement in the training and use of AI systems. This shows the importance and impact of AI regulations on the development and use of AI technologies.\n",
            "\n",
            "Final Answer: \n",
            "\n",
            "**Analysis Report: Latest Advancements in AI in 2024**\n",
            "\n",
            "The year 2024 is poised to be transformative for the AI industry with four major trends shaping its landscape:\n",
            "\n",
            "1. **Generative AI:** After gaining attention in 2023, generative AI is expected to become more accessible to non-technical users. Tools like ChatGPT have reached mass adoption, changing the course of the industry. Generative AI focuses on generating new data from existing ones, leading to widespread use and experimentation.\n",
            "\n",
            "2. **Multimodal AI:** This trend involves AI systems that go beyond traditional single-mode data processing to include multiple types of input such as text, images, and sound. This advancement mimics the human ability to process diverse sensory information, improving the interaction between users and AI systems. Industries like health, retail, and customer service could see significant impacts from this technology.\n",
            "\n",
            "3. **Quantum Advancements in AI:** 2024 is predicted to be a pivotal year for quantum technology, with advancements in hardware, software, and applications expected to accelerate. Government-backed funding and the efforts of major tech companies like IBM fuel quantum technology. The integration of quantum computing with generative AI is also anticipated, which could lead to significant leaps in AI capabilities.\n",
            "\n",
            "4. **AI Regulations and Policies:** The first sweeping AI laws are expected to come into force in 2024, holding tech companies accountable. These regulations may begin to affect nearly all industries. Additionally, more litigation over alleged copyright infringement in the training and use of AI systems is expected, highlighting the impact of AI regulations on the development and use of AI technologies.\n",
            "\n",
            "These advancements are set to shape the AI landscape in 2024, bringing new opportunities and challenges for industries and policymakers alike.\u001b[0m\n",
            "\n",
            "\u001b[1m> Finished chain.\u001b[0m\n",
            "\n",
            "[DEBUG]: [Senior Research Analyst] Task output: **Analysis Report: Latest Advancements in AI in 2024**\n",
            "\n",
            "The year 2024 is poised to be transformative for the AI industry with four major trends shaping its landscape:\n",
            "\n",
            "1. **Generative AI:** After gaining attention in 2023, generative AI is expected to become more accessible to non-technical users. Tools like ChatGPT have reached mass adoption, changing the course of the industry. Generative AI focuses on generating new data from existing ones, leading to widespread use and experimentation.\n",
            "\n",
            "2. **Multimodal AI:** This trend involves AI systems that go beyond traditional single-mode data processing to include multiple types of input such as text, images, and sound. This advancement mimics the human ability to process diverse sensory information, improving the interaction between users and AI systems. Industries like health, retail, and customer service could see significant impacts from this technology.\n",
            "\n",
            "3. **Quantum Advancements in AI:** 2024 is predicted to be a pivotal year for quantum technology, with advancements in hardware, software, and applications expected to accelerate. Government-backed funding and the efforts of major tech companies like IBM fuel quantum technology. The integration of quantum computing with generative AI is also anticipated, which could lead to significant leaps in AI capabilities.\n",
            "\n",
            "4. **AI Regulations and Policies:** The first sweeping AI laws are expected to come into force in 2024, holding tech companies accountable. These regulations may begin to affect nearly all industries. Additionally, more litigation over alleged copyright infringement in the training and use of AI systems is expected, highlighting the impact of AI regulations on the development and use of AI technologies.\n",
            "\n",
            "These advancements are set to shape the AI landscape in 2024, bringing new opportunities and challenges for industries and policymakers alike.\n",
            "\n",
            "\n",
            "\n",
            "[DEBUG]: Working Agent: Tech Content Strategist\n",
            "\n",
            "[INFO]: Starting Task: Using the insights provided, develop an engaging blog\n",
            "  post that highlights the most significant AI advancements.\n",
            "  Your post should be informative yet accessible, catering to a tech-savvy audience.\n",
            "  Make it sound cool, avoid complex words so it doesn't sound like AI.\n",
            "  Your final answer MUST be the full blog post of at least 4 paragraphs.\n",
            "\n",
            "\n",
            "\u001b[1m> Entering new CrewAgentExecutor chain...\u001b[0m\n",
            "\u001b[32;1m\u001b[1;3mThought: Do I need to use a tool? No\n",
            "Final Answer: \n",
            "\"Welcome to the future of AI: The Year 2024\"\n",
            "\n",
            "Picture this, a year where innovation and creativity meld into something extraordinary. That's 2024 for you, a pivotal year for the AI industry, bustling with groundbreaking trends. We're talking about the transformation of the AI industry with four major trends: Generative AI, Multimodal AI, Quantum Advancements in AI, and AI Regulations and Policies. Let's dive right in and explore these trends, shall we?\n",
            "\n",
            "First up, we have Generative AI, a technology that has been buzzing since 2023, now ready to become accessible to even your technophobe aunt! Remember ChatGPT? Yeah, that's the game changer, making generative AI a household term. Best part? It's all about creating something new from something old. Imagine the possibilities!\n",
            "\n",
            "Next on the list is Multimodal AI. Imagine an AI system that can process text, images, and sound, all at the same time. Sounds like a superhuman, right? Well, that's what Multimodal AI aims to achieve. It's like giving AI a taste of the human experience, and it's here to revolutionize industries like health, retail, and customer service.\n",
            "\n",
            "Now let's talk about the big one, Quantum Advancements in AI. We're looking at a year where quantum technology is set to pick up speed, with major tech giants and government support fueling its momentum. The blend of quantum computing and generative AI is something to anticipate, promising to lead to huge leaps in AI capabilities.\n",
            "\n",
            "Last, but definitely not the least, we have AI Regulations and Policies. 2024 is expected to see the first wave of comprehensive AI laws that will hold tech companies accountable. This could have a ripple effect across industries, and we might see more legal battles over alleged copyright infringements in AI training and use.\n",
            "\n",
            "So, buckle up folks! The year 2024 is shaping up to be a thrilling journey in the world of AI. From creating new data, processing diverse inputs, quantum leaps in technology, to stricter laws, the future of AI is here, and it's nothing short of exciting. Stay tuned with us as we navigate through these exciting times together.\u001b[0m\n",
            "\n",
            "\u001b[1m> Finished chain.\u001b[0m\n",
            "\n",
            "[DEBUG]: [Tech Content Strategist] Task output: \"Welcome to the future of AI: The Year 2024\"\n",
            "\n",
            "Picture this, a year where innovation and creativity meld into something extraordinary. That's 2024 for you, a pivotal year for the AI industry, bustling with groundbreaking trends. We're talking about the transformation of the AI industry with four major trends: Generative AI, Multimodal AI, Quantum Advancements in AI, and AI Regulations and Policies. Let's dive right in and explore these trends, shall we?\n",
            "\n",
            "First up, we have Generative AI, a technology that has been buzzing since 2023, now ready to become accessible to even your technophobe aunt! Remember ChatGPT? Yeah, that's the game changer, making generative AI a household term. Best part? It's all about creating something new from something old. Imagine the possibilities!\n",
            "\n",
            "Next on the list is Multimodal AI. Imagine an AI system that can process text, images, and sound, all at the same time. Sounds like a superhuman, right? Well, that's what Multimodal AI aims to achieve. It's like giving AI a taste of the human experience, and it's here to revolutionize industries like health, retail, and customer service.\n",
            "\n",
            "Now let's talk about the big one, Quantum Advancements in AI. We're looking at a year where quantum technology is set to pick up speed, with major tech giants and government support fueling its momentum. The blend of quantum computing and generative AI is something to anticipate, promising to lead to huge leaps in AI capabilities.\n",
            "\n",
            "Last, but definitely not the least, we have AI Regulations and Policies. 2024 is expected to see the first wave of comprehensive AI laws that will hold tech companies accountable. This could have a ripple effect across industries, and we might see more legal battles over alleged copyright infringements in AI training and use.\n",
            "\n",
            "So, buckle up folks! The year 2024 is shaping up to be a thrilling journey in the world of AI. From creating new data, processing diverse inputs, quantum leaps in technology, to stricter laws, the future of AI is here, and it's nothing short of exciting. Stay tuned with us as we navigate through these exciting times together.\n",
            "\n",
            "\n",
            "######################\n",
            "\"Welcome to the future of AI: The Year 2024\"\n",
            "\n",
            "Picture this, a year where innovation and creativity meld into something extraordinary. That's 2024 for you, a pivotal year for the AI industry, bustling with groundbreaking trends. We're talking about the transformation of the AI industry with four major trends: Generative AI, Multimodal AI, Quantum Advancements in AI, and AI Regulations and Policies. Let's dive right in and explore these trends, shall we?\n",
            "\n",
            "First up, we have Generative AI, a technology that has been buzzing since 2023, now ready to become accessible to even your technophobe aunt! Remember ChatGPT? Yeah, that's the game changer, making generative AI a household term. Best part? It's all about creating something new from something old. Imagine the possibilities!\n",
            "\n",
            "Next on the list is Multimodal AI. Imagine an AI system that can process text, images, and sound, all at the same time. Sounds like a superhuman, right? Well, that's what Multimodal AI aims to achieve. It's like giving AI a taste of the human experience, and it's here to revolutionize industries like health, retail, and customer service.\n",
            "\n",
            "Now let's talk about the big one, Quantum Advancements in AI. We're looking at a year where quantum technology is set to pick up speed, with major tech giants and government support fueling its momentum. The blend of quantum computing and generative AI is something to anticipate, promising to lead to huge leaps in AI capabilities.\n",
            "\n",
            "Last, but definitely not the least, we have AI Regulations and Policies. 2024 is expected to see the first wave of comprehensive AI laws that will hold tech companies accountable. This could have a ripple effect across industries, and we might see more legal battles over alleged copyright infringements in AI training and use.\n",
            "\n",
            "So, buckle up folks! The year 2024 is shaping up to be a thrilling journey in the world of AI. From creating new data, processing diverse inputs, quantum leaps in technology, to stricter laws, the future of AI is here, and it's nothing short of exciting. Stay tuned with us as we navigate through these exciting times together.\n"
          ]
        }
      ]
    }
  ]
}