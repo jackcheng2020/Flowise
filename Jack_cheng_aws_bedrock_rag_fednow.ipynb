{
  "nbformat": 4,
  "nbformat_minor": 0,
  "metadata": {
    "colab": {
      "provenance": [],
      "authorship_tag": "ABX9TyMHAqnxso/G87PHpdrOmQEG",
      "include_colab_link": true
    },
    "kernelspec": {
      "name": "python3",
      "display_name": "Python 3"
    },
    "language_info": {
      "name": "python"
    }
  },
  "cells": [
    {
      "cell_type": "markdown",
      "metadata": {
        "id": "view-in-github",
        "colab_type": "text"
      },
      "source": [
        "<a href=\"https://colab.research.google.com/github/jackcheng2020/Flowise/blob/main/Jack_cheng_aws_bedrock_rag_fednow.ipynb\" target=\"_parent\"><img src=\"https://colab.research.google.com/assets/colab-badge.svg\" alt=\"Open In Colab\"/></a>"
      ]
    },
    {
      "cell_type": "code",
      "execution_count": 29,
      "metadata": {
        "colab": {
          "base_uri": "https://localhost:8080/"
        },
        "id": "EDS9EYiSJZ6R",
        "outputId": "db503eaa-857e-47ec-c330-4fa4934b6af8"
      },
      "outputs": [
        {
          "output_type": "stream",
          "name": "stdout",
          "text": [
            "\u001b[2K     \u001b[90m━━━━━━━━━━━━━━━━━━━━━━━━━━━━━━━━━━━━━━━━\u001b[0m \u001b[32m139.3/139.3 kB\u001b[0m \u001b[31m1.4 MB/s\u001b[0m eta \u001b[36m0:00:00\u001b[0m\n",
            "\u001b[2K     \u001b[90m━━━━━━━━━━━━━━━━━━━━━━━━━━━━━━━━━━━━━━━━\u001b[0m \u001b[32m12.0/12.0 MB\u001b[0m \u001b[31m43.1 MB/s\u001b[0m eta \u001b[36m0:00:00\u001b[0m\n",
            "\u001b[?25h"
          ]
        }
      ],
      "source": [
        "!python3 -m pip install -qU langchain elasticsearch boto3\n",
        "\n",
        "# import modules\n",
        "from getpass import getpass\n",
        "from urllib.request import urlopen\n",
        "from langchain.vectorstores import ElasticsearchStore\n",
        "from langchain.embeddings.bedrock import BedrockEmbeddings\n",
        "from langchain.llms import Bedrock\n",
        "from langchain.chains import RetrievalQA\n",
        "import boto3\n",
        "import json"
      ]
    },
    {
      "cell_type": "code",
      "source": [
        "default_region = \"us-east-1\"\n",
        "AWS_ACCESS_KEY = getpass(\"AWS Acces key: \")\n",
        "AWS_SECRET_KEY = getpass(\"AWS Secret key: \")\n",
        "\n",
        "AWS_REGION = input(f\"AWS Region [default: {default_region}]: \") or default_region\n",
        "\n",
        "bedrock_client = boto3.client(\n",
        "    service_name=\"bedrock-runtime\",\n",
        "    region_name=AWS_REGION,\n",
        "    aws_access_key_id=AWS_ACCESS_KEY,\n",
        "    aws_secret_access_key=AWS_SECRET_KEY\n",
        ")"
      ],
      "metadata": {
        "colab": {
          "base_uri": "https://localhost:8080/"
        },
        "id": "TYBI1SqSKK-g",
        "outputId": "76998b41-167c-4fff-968c-1b3530205ce4"
      },
      "execution_count": 30,
      "outputs": [
        {
          "name": "stdout",
          "output_type": "stream",
          "text": [
            "AWS Acces key: ··········\n",
            "AWS Secret key: ··········\n",
            "AWS Region [default: us-east-1]: \n"
          ]
        }
      ]
    },
    {
      "cell_type": "code",
      "source": [
        "# We will be using the Titan Embeddings Model to generate our Embeddings.\n",
        "from langchain.embeddings import BedrockEmbeddings\n",
        "from langchain.llms.bedrock import Bedrock\n",
        "\n",
        "# - create the Anthropic Model\n",
        "llm = Bedrock(model_id=\"meta.llama2-70b-chat-v1\", client=bedrock_client, model_kwargs={'max_gen_len':200})\n",
        "bedrock_embeddings = BedrockEmbeddings(model_id=\"amazon.titan-embed-text-v1\", client=bedrock_client)"
      ],
      "metadata": {
        "id": "vYDjBe7FyXpW"
      },
      "execution_count": 78,
      "outputs": []
    },
    {
      "cell_type": "code",
      "source": [
        "from urllib.request import urlretrieve\n",
        "\n",
        "os.makedirs(\"data\", exist_ok=True)\n",
        "files = [\n",
        "    \"https://explore.fednow.org/resources/fraud-at-a-glance.pdf\"\n",
        "\n",
        "]\n",
        "for url in files:\n",
        "    file_path = os.path.join(\"data\", url.rpartition(\"/\")[2])\n",
        "    urlretrieve(url, file_path)"
      ],
      "metadata": {
        "id": "LPHuFSKCyoEy"
      },
      "execution_count": 79,
      "outputs": []
    },
    {
      "cell_type": "code",
      "source": [
        "import numpy as np\n",
        "from langchain.text_splitter import CharacterTextSplitter, RecursiveCharacterTextSplitter\n",
        "from langchain.document_loaders import PyPDFLoader, PyPDFDirectoryLoader\n",
        "\n",
        "loader = PyPDFDirectoryLoader(\"./data/\")\n",
        "\n",
        "documents = loader.load()\n",
        "# - in our testing Character split works better with this PDF data set\n",
        "text_splitter = RecursiveCharacterTextSplitter(\n",
        "    # Set a really small chunk size, just to show.\n",
        "    chunk_size = 1000,\n",
        "    chunk_overlap  = 100,\n",
        ")\n",
        "docs = text_splitter.split_documents(documents)"
      ],
      "metadata": {
        "id": "fxqXZxovy--h"
      },
      "execution_count": 80,
      "outputs": []
    },
    {
      "cell_type": "code",
      "source": [
        "avg_doc_length = lambda documents: sum([len(doc.page_content) for doc in documents])//len(documents)\n",
        "avg_char_count_pre = avg_doc_length(documents)\n",
        "avg_char_count_post = avg_doc_length(docs)\n",
        "print(f'Average length among {len(documents)} documents loaded is {avg_char_count_pre} characters.')\n",
        "print(f'After the split we have {len(docs)} documents more than the original {len(documents)}.')\n",
        "print(f'Average length among {len(docs)} documents (after split) is {avg_char_count_post} characters.')"
      ],
      "metadata": {
        "colab": {
          "base_uri": "https://localhost:8080/"
        },
        "id": "HGBZ7ZZGzKMl",
        "outputId": "20664081-f32c-430e-aabb-28037ed7ae8a"
      },
      "execution_count": 81,
      "outputs": [
        {
          "output_type": "stream",
          "name": "stdout",
          "text": [
            "Average length among 85 documents loaded is 5702 characters.\n",
            "After the split we have 570 documents more than the original 85.\n",
            "Average length among 570 documents (after split) is 910 characters.\n"
          ]
        }
      ]
    },
    {
      "cell_type": "code",
      "source": [
        "try:\n",
        "\n",
        "    sample_embedding = np.array(bedrock_embeddings.embed_query(docs[0].page_content))\n",
        "    print(\"Sample embedding of a document chunk: \", sample_embedding)\n",
        "    print(\"Size of the embedding: \", sample_embedding.shape)\n",
        "\n",
        "except ValueError as error:\n",
        "    if  \"AccessDeniedException\" in str(error):\n",
        "        print(f\"\\x1b[41m{error}\\\n",
        "        \\nTo troubeshoot this issue please refer to the following resources.\\\n",
        "         \\nhttps://docs.aws.amazon.com/IAM/latest/UserGuide/troubleshoot_access-denied.html\\\n",
        "         \\nhttps://docs.aws.amazon.com/bedrock/latest/userguide/security-iam.html\\x1b[0m\\n\")\n",
        "        class StopExecution(ValueError):\n",
        "            def _render_traceback_(self):\n",
        "                pass\n",
        "        raise StopExecution\n",
        "    else:\n",
        "        raise error"
      ],
      "metadata": {
        "colab": {
          "base_uri": "https://localhost:8080/"
        },
        "id": "dqgDuRQPzNwC",
        "outputId": "bf3a697b-fbae-41fc-d502-89dd12c022d5"
      },
      "execution_count": 82,
      "outputs": [
        {
          "output_type": "stream",
          "name": "stdout",
          "text": [
            "Sample embedding of a document chunk:  [-0.53125    -0.07861328 -0.33203125 ...  0.17382812  0.17675781\n",
            " -0.6640625 ]\n",
            "Size of the embedding:  (1536,)\n"
          ]
        }
      ]
    },
    {
      "cell_type": "code",
      "source": [
        "from langchain.chains.question_answering import load_qa_chain\n",
        "from langchain.vectorstores import FAISS\n",
        "from langchain.indexes import VectorstoreIndexCreator\n",
        "from langchain.indexes.vectorstore import VectorStoreIndexWrapper\n",
        "\n",
        "vectorstore_faiss = FAISS.from_documents(\n",
        "    docs,\n",
        "    bedrock_embeddings,\n",
        ")\n",
        "\n",
        "wrapper_store_faiss = VectorStoreIndexWrapper(vectorstore=vectorstore_faiss)"
      ],
      "metadata": {
        "id": "kGyLfLH8zRmf"
      },
      "execution_count": 83,
      "outputs": []
    },
    {
      "cell_type": "code",
      "source": [
        "query = \"\"\"How many transaction limits in Fednow?\"\"\""
      ],
      "metadata": {
        "id": "gcRNtmQYzxFx"
      },
      "execution_count": 85,
      "outputs": []
    },
    {
      "cell_type": "code",
      "source": [
        "query_embedding = bedrock_embeddings.embed_query(query)\n",
        "np.array(query_embedding)"
      ],
      "metadata": {
        "colab": {
          "base_uri": "https://localhost:8080/"
        },
        "id": "C_Zf7M6B0o4U",
        "outputId": "74c5f5e3-d6cc-4db1-a83c-e720593f3218"
      },
      "execution_count": 86,
      "outputs": [
        {
          "output_type": "execute_result",
          "data": {
            "text/plain": [
              "array([-0.68359375, -0.14941406,  0.27539062, ...,  0.171875  ,\n",
              "        0.07519531, -0.2890625 ])"
            ]
          },
          "metadata": {},
          "execution_count": 86
        }
      ]
    },
    {
      "cell_type": "code",
      "source": [
        "relevant_documents = vectorstore_faiss.similarity_search_by_vector(query_embedding)\n",
        "print(f'{len(relevant_documents)} documents are fetched which are relevant to the query.')\n",
        "print('----')\n",
        "for i, rel_doc in enumerate(relevant_documents):\n",
        "    print(f'## Document {i+1}: {rel_doc.page_content}.......')\n",
        "    print('---')"
      ],
      "metadata": {
        "colab": {
          "base_uri": "https://localhost:8080/"
        },
        "id": "L-4RjdzT0q1l",
        "outputId": "37cdc59f-0dc8-4e2a-d0d5-da8d35b54e12"
      },
      "execution_count": 87,
      "outputs": [
        {
          "output_type": "stream",
          "name": "stdout",
          "text": [
            "4 documents are fetched which are relevant to the query.\n",
            "----\n",
            "## Document 1: Network-level transaction limits  \n",
            "The maximum amount per transaction a financial institution can send over the FedNow Service – amount set by the Federal Reserve.\n",
            "Participant-level transaction limit \n",
            "Participants can set a lower transaction limit for credit transfers they initiate based on their organization’s risk policies.\n",
            "Participant-defined negative lists  \n",
            "Financial institutions may specify suspicious accounts their organizations can’t send to or receive from. \n",
            "PARTICIPANT REPORTING AND NOTIFICATION OF FRAUD\n",
            "When FedNo\n",
            "w participants confirm a transaction is fraudulent \n",
            "through their own investigation, they are required to report it to the FedNow Service. This information is used to strengthen the FedNow network and support counterparty fraud mitigation processes........\n",
            "---\n",
            "## Document 2: PROTECTING AGAINST INSTANT PAYMENT FRAUD\n",
            "FedNow® Service risk management capabilities  \n",
            "As with any type of payment, the potential for fraud exists with \n",
            "instant payments. It’s important for financial institutions and others in the FedNow Service ecosystem to work together to combat fraud.  Financial institutions are the first line of defense against instant payments-related fraud. As they prepare for the FedNow Service, participating institutions will want to evaluate their own fraud management approach and consider taking steps to help protect themselves and their customers.  To support and complement financial institutions’ own fraud mitigation  \n",
            "efforts, the FedNow Service offers fraud management capabilities and enable features to help protect against threats. Future releases of the service will add even more capabilities.\n",
            "TRANSACTION LIMITS AND NEGATIVE LISTS\n",
            "The following capabilities are available to participating financial institutions at the launch of the FedNow Service........\n",
            "---\n",
            "## Document 3: RISK MANAGEMENT AND ERROR RESOLUTION  \n",
            "FedNow participants can configure preferences and use ISO® \n",
            "20022 messages to help with their efforts to mitigate fraud and to \n",
            "resolve errors.\n",
            "Participation type The FedNow Service offers different ways to participate in the service so that participants can enable the options that best match their needs and risk profile. For example, financial institutions may choose to support customer credit transfers, but elect not to support liquidity management transfers.Accept without posting Participants may submit an “accept without posting” status back to the originating financial institution indicating that further information is required with respect to compliance considerations before accepting the payment. \n",
            "Request for information.......\n",
            "---\n",
            "## Document 4: • Allows those in the payments industry to speak the same language on fraud.\n",
            "• Leads to holistic view of fraudulent events, which can help with a more strategic approach to fraud management.\n",
            "READ  our Get ready for instant payments: Fraud edition article for more information. \n",
            "The Federal Reserve Financial Services logo, “FedNow,” and “FedLine” are service marks of the Federal Reserve Banks. A list of marks related to financial services offered \n",
            "by the Federal Reserve Banks is available at FRBservices.org. Marks of any third parties identified in this document are owned by their respective holders.Visit FedNowExplorer.org for more resources to help you prepare for the FedNow Service.\n",
            "4.......\n",
            "---\n"
          ]
        }
      ]
    },
    {
      "cell_type": "code",
      "source": [
        "from langchain.prompts import PromptTemplate\n",
        "from langchain.chains import RetrievalQA\n",
        "from langchain.chat_models.bedrock import ChatPromptAdapter\n",
        "from langchain.schema import HumanMessage\n",
        "\n",
        "prompt_template = \"\"\"\n",
        "\n",
        "Human: Use the following pieces of context to provide a concise answer to the question at the end. If you don't know the answer, just say that you don't know, don't try to make up an answer.\n",
        "<context>\n",
        "{context}\n",
        "</context\n",
        "\n",
        "Question: {question}\n",
        "\n",
        "Assistant:\"\"\"\n",
        "\n",
        "\n",
        "msg = HumanMessage(content=prompt_template)\n",
        "prompt_template = ChatPromptAdapter().convert_messages_to_prompt('meta', [msg])\n",
        "\n",
        "PROMPT = PromptTemplate(\n",
        "    template=prompt_template, input_variables=[\"context\", \"question\"]\n",
        ")"
      ],
      "metadata": {
        "id": "7pTVGf7a080d"
      },
      "execution_count": 88,
      "outputs": []
    },
    {
      "cell_type": "code",
      "source": [
        "qa = RetrievalQA.from_chain_type(\n",
        "    llm=llm,\n",
        "    chain_type=\"stuff\",\n",
        "    retriever=vectorstore_faiss.as_retriever(\n",
        "        search_type=\"similarity\", search_kwargs={\"k\": 3}\n",
        "    ),\n",
        "    return_source_documents=True,\n",
        "    chain_type_kwargs={\"prompt\": PROMPT}\n",
        ")\n",
        "answer = qa({\"query\": query})\n",
        "print(answer)"
      ],
      "metadata": {
        "colab": {
          "base_uri": "https://localhost:8080/"
        },
        "id": "SD6HPh_41CnN",
        "outputId": "418c210b-09af-49dc-f957-2a0b363188cd"
      },
      "execution_count": 90,
      "outputs": [
        {
          "output_type": "stream",
          "name": "stdout",
          "text": [
            "{'query': 'How many transaction limits in Fednow?', 'result': '  There are three transaction limits in FedNow:\\n\\n1. Network-level transaction limit: The maximum amount per transaction that a financial institution can send over the FedNow Service, set by the Federal Reserve.\\n2. Participant-level transaction limit: The maximum amount per transaction that a participant can set for credit transfers they initiate, based on their organization’s risk policies.\\n3. Participant-defined negative lists: Financial institutions may specify suspicious accounts that they cannot send to or receive from.', 'source_documents': [Document(page_content='Network-level transaction limits  \\nThe maximum amount per transaction a financial institution can send over the FedNow Service – amount set by the Federal Reserve.\\nParticipant-level transaction limit \\nParticipants can set a lower transaction limit for credit transfers they initiate based on their organization’s risk policies.\\nParticipant-defined negative lists  \\nFinancial institutions may specify suspicious accounts their organizations can’t send to or receive from. \\nPARTICIPANT REPORTING AND NOTIFICATION OF FRAUD\\nWhen FedNo\\nw participants confirm a transaction is fraudulent \\nthrough their own investigation, they are required to report it to the FedNow Service. This information is used to strengthen the FedNow network and support counterparty fraud mitigation processes.', metadata={'source': 'data/fraud-at-a-glance.pdf', 'page': 0}), Document(page_content='PROTECTING AGAINST INSTANT PAYMENT FRAUD\\nFedNow® Service risk management capabilities  \\nAs with any type of payment, the potential for fraud exists with \\ninstant payments. It’s important for financial institutions and others in the FedNow Service ecosystem to work together to combat fraud.  Financial institutions are the first line of defense against instant payments-related fraud. As they prepare for the FedNow Service, participating institutions will want to evaluate their own fraud management approach and consider taking steps to help protect themselves and their customers.  To support and complement financial institutions’ own fraud mitigation  \\nefforts, the FedNow Service offers fraud management capabilities and enable features to help protect against threats. Future releases of the service will add even more capabilities.\\nTRANSACTION LIMITS AND NEGATIVE LISTS\\nThe following capabilities are available to participating financial institutions at the launch of the FedNow Service.', metadata={'source': 'data/fraud-at-a-glance.pdf', 'page': 0}), Document(page_content='RISK MANAGEMENT AND ERROR RESOLUTION  \\nFedNow participants can configure preferences and use ISO® \\n20022 messages to help with their efforts to mitigate fraud and to \\nresolve errors.\\nParticipation type The FedNow Service offers different ways to participate in the service so that participants can enable the options that best match their needs and risk profile. For example, financial institutions may choose to support customer credit transfers, but elect not to support liquidity management transfers.Accept without posting Participants may submit an “accept without posting” status back to the originating financial institution indicating that further information is required with respect to compliance considerations before accepting the payment. \\nRequest for information', metadata={'source': 'data/fraud-at-a-glance.pdf', 'page': 1})]}\n"
          ]
        }
      ]
    },
    {
      "cell_type": "code",
      "source": [],
      "metadata": {
        "id": "2clrEfqn1LRi"
      },
      "execution_count": null,
      "outputs": []
    }
  ]
}